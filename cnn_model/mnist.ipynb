{
 "cells": [
  {
   "cell_type": "code",
   "execution_count": 13,
   "metadata": {},
   "outputs": [],
   "source": [
    "from pathlib import Path\n",
    "from array import array\n",
    "import struct\n",
    "import cv2 \n",
    "import numpy as np\n",
    "from PIL import Image\n",
    "import matplotlib.pyplot as plt\n",
    "from one_layer_nn import OneLayerNN\n",
    "import torch\n",
    "import torch.nn as nn"
   ]
  },
  {
   "cell_type": "markdown",
   "metadata": {},
   "source": [
    "### Read data"
   ]
  },
  {
   "cell_type": "code",
   "execution_count": 5,
   "metadata": {},
   "outputs": [],
   "source": [
    "def read_image_data(path):\n",
    "    data_dir = Path(\"./data\")\n",
    "    with open(data_dir / path, \"rb\") as f:\n",
    "        # IDX file format\n",
    "        magic, size, rows, cols = struct.unpack(\">IIII\", f.read(16))\n",
    "        image_data = array(\"B\", f.read())   \n",
    "    images = []\n",
    "    for i in range(size):\n",
    "        image = np.array(image_data[i * rows * cols:(i + 1) * rows * cols]).reshape(28, 28)\n",
    "        images.append(image)\n",
    "    return np.array(images)\n",
    "\n",
    "\n",
    "def read_labels(path):\n",
    "    data_dir = Path(\"./data\")\n",
    "    with open(data_dir / path, \"rb\") as f:\n",
    "        magic, size = struct.unpack(\">II\", f.read(8))\n",
    "        if magic != 2049:\n",
    "            raise ValueError('Magic number mismatch, expected 2049, got {}'.format(magic))\n",
    "        labels = np.array(array(\"B\", f.read()))\n",
    "    return labels"
   ]
  },
  {
   "cell_type": "code",
   "execution_count": 6,
   "metadata": {},
   "outputs": [
    {
     "name": "stdout",
     "output_type": "stream",
     "text": [
      "(60000, 28, 28)\n"
     ]
    }
   ],
   "source": [
    "train_val_labels = read_labels(\"train-labels.idx1-ubyte\")\n",
    "train_val_images = read_image_data(\"train-images.idx3-ubyte\")\n",
    "test_images = read_image_data(\"t10k-images.idx3-ubyte\")\n",
    "test_labels = read_labels(\"t10k-labels.idx1-ubyte\")\n",
    "print(train_val_images.shape)"
   ]
  },
  {
   "cell_type": "code",
   "execution_count": 7,
   "metadata": {},
   "outputs": [
    {
     "data": {
      "text/plain": [
       "<matplotlib.image.AxesImage at 0x7fc33fe54d00>"
      ]
     },
     "execution_count": 7,
     "metadata": {},
     "output_type": "execute_result"
    },
    {
     "data": {
      "image/png": "[encoded data removed]",
      "text/plain": [
       "<Figure size 640x480 with 1 Axes>"
      ]
     },
     "metadata": {},
     "output_type": "display_data"
    }
   ],
   "source": [
    "# Show image\n",
    "\n",
    "plt.imshow(test_images[10])\n"
   ]
  },
  {
   "cell_type": "markdown",
   "metadata": {},
   "source": [
    "### Process"
   ]
  },
  {
   "cell_type": "code",
   "execution_count": 8,
   "metadata": {},
   "outputs": [],
   "source": [
    "def onehot(label):\n",
    "    encoded_label = np.zeros(10)\n",
    "    encoded_label[label] = 1\n",
    "    return encoded_label"
   ]
  },
  {
   "cell_type": "code",
   "execution_count": 9,
   "metadata": {},
   "outputs": [],
   "source": [
    "# Set trainning dataset\n",
    "# Set validate dataset\n",
    "\n",
    "train_images = train_val_images[:int(0.9 * len(train_val_images))]\n",
    "val_images = train_val_images[len(train_images):]\n",
    "\n",
    "train_labels = train_val_labels[:len(train_images)]\n",
    "val_labels = train_val_labels[len(train_images):]\n"
   ]
  },
  {
   "cell_type": "code",
   "execution_count": 10,
   "metadata": {},
   "outputs": [],
   "source": [
    "one_layer_nn = OneLayerNN()"
   ]
  },
  {
   "cell_type": "code",
   "execution_count": 14,
   "metadata": {},
   "outputs": [
    {
     "name": "stderr",
     "output_type": "stream",
     "text": [
      "/tmp/ipykernel_25189/4021182234.py:4: UserWarning: Creating a tensor from a list of numpy.ndarrays is extremely slow. Please consider converting the list to a single numpy.ndarray with numpy.array() before converting to a tensor. (Triggered internally at ../torch/csrc/utils/tensor_new.cpp:261.)\n",
      "  torch_train_labels = torch.Tensor([onehot(label) for label in train_labels])\n"
     ]
    }
   ],
   "source": [
    "torch_train_images = torch.Tensor(train_images).reshape(-1, 28 * 28)\n",
    "torch_val_images = torch.Tensor(val_images).reshape(-1, 28 * 28)\n",
    "torch_test_images = torch.Tensor(test_images).reshape(-1, 28 * 28)\n",
    "torch_train_labels = torch.Tensor([onehot(label) for label in train_labels])\n",
    "torch_val_labels = torch.Tensor([onehot(label) for label in val_labels])\n",
    "torch_test_labels = torch.Tensor([onehot(label) for label in test_labels])\n",
    "torch_train_dataset = torch.hstack((torch_train_labels, torch_train_images))\n"
   ]
  },
  {
   "cell_type": "code",
   "execution_count": 15,
   "metadata": {},
   "outputs": [],
   "source": [
    "optim = torch.optim.SGD(params=one_layer_nn.parameters(), lr=1e-3)"
   ]
  },
  {
   "cell_type": "code",
   "execution_count": 16,
   "metadata": {},
   "outputs": [
    {
     "name": "stdout",
     "output_type": "stream",
     "text": [
      "Val Loss 0.20985274016857147\n",
      "Accuracy 0.9393333333333334\n",
      "Val Loss 0.21142853796482086\n",
      "Accuracy 0.944\n",
      "Val Loss 0.19662968814373016\n",
      "Accuracy 0.9566666666666667\n",
      "Val Loss 0.18643616139888763\n",
      "Accuracy 0.9593333333333334\n",
      "Val Loss 0.1822238713502884\n",
      "Accuracy 0.9603333333333334\n",
      "Val Loss 0.18014958500862122\n",
      "Accuracy 0.9583333333333334\n",
      "Val Loss 0.17943190038204193\n",
      "Accuracy 0.9613333333333334\n",
      "Val Loss 0.17741777002811432\n",
      "Accuracy 0.9633333333333334\n",
      "Val Loss 0.17686671018600464\n",
      "Accuracy 0.9618333333333333\n",
      "Val Loss 0.17609421908855438\n",
      "Accuracy 0.9658333333333333\n",
      "Val Loss 0.17542989552021027\n",
      "Accuracy 0.9663333333333334\n",
      "Val Loss 0.17829130589962006\n",
      "Accuracy 0.9618333333333333\n",
      "Val Loss 0.17949818074703217\n",
      "Accuracy 0.9628333333333333\n",
      "Val Loss 0.18042023479938507\n",
      "Accuracy 0.9681666666666666\n",
      "Val Loss 0.18189674615859985\n",
      "Accuracy 0.9655\n",
      "Val Loss 0.1840190589427948\n",
      "Accuracy 0.9636666666666667\n",
      "Val Loss 0.18626224994659424\n",
      "Accuracy 0.9661666666666666\n",
      "Val Loss 0.1872359961271286\n",
      "Accuracy 0.9693333333333334\n",
      "Val Loss 0.19042493402957916\n",
      "Accuracy 0.9658333333333333\n",
      "Val Loss 0.19210045039653778\n",
      "Accuracy 0.9666666666666667\n",
      "Val Loss 0.19588486850261688\n",
      "Accuracy 0.9643333333333334\n",
      "Val Loss 0.19803868234157562\n",
      "Accuracy 0.9681666666666666\n",
      "Val Loss 0.20105770230293274\n",
      "Accuracy 0.9668333333333333\n",
      "Val Loss 0.20412953197956085\n",
      "Accuracy 0.9623333333333334\n",
      "Val Loss 0.20770390331745148\n",
      "Accuracy 0.9656666666666667\n",
      "Val Loss 0.20921172201633453\n",
      "Accuracy 0.9698333333333333\n",
      "Val Loss 0.21242457628250122\n",
      "Accuracy 0.9661666666666666\n",
      "Val Loss 0.21599960327148438\n",
      "Accuracy 0.9633333333333334\n",
      "Val Loss 0.21948379278182983\n",
      "Accuracy 0.963\n",
      "Val Loss 0.22407689690589905\n",
      "Accuracy 0.9645\n"
     ]
    }
   ],
   "source": [
    "one_layer_nn = OneLayerNN()\n",
    "optim = torch.optim.SGD(params=one_layer_nn.parameters(), lr=1e-3)\n",
    "train_losses = []\n",
    "val_losses = []\n",
    "epochs = 30\n",
    "batch_size = 10\n",
    "val_predictions = []\n",
    "for epoch in range(epochs):\n",
    "    shuffled_order = torch.randperm(len(torch_train_dataset))\n",
    "    val_predictions = []\n",
    "    for index in range(len(shuffled_order) // batch_size):\n",
    "        batch = torch_train_dataset[shuffled_order[index * batch_size:(index + 1) * batch_size]]\n",
    "        y_true = batch[:,:10]\n",
    "        y_pred = one_layer_nn(batch[:,10:]) # What's happen?\n",
    "        loss = torch.nn.functional.cross_entropy(y_pred, y_true) # What's happen?\n",
    "        optim.zero_grad() # Chuyen grad ve 0\n",
    "        loss.backward() # Backward \n",
    "        optim.step()\n",
    "        train_losses.append(loss.detach())\n",
    "    with torch.no_grad():\n",
    "        for batch in range(len(torch_val_images) // batch_size):\n",
    "            y_pred = one_layer_nn(torch_val_images[batch * batch_size:(batch + 1) * batch_size])\n",
    "            y_true = torch_val_labels[batch * batch_size:(batch + 1) * batch_size]\n",
    "            loss = torch.nn.functional.cross_entropy(y_pred, y_true)\n",
    "            val_losses.append(loss)\n",
    "            val_predictions.extend(torch.argmax(y_pred, axis=1))\n",
    "        print(\"Val Loss\", (sum(val_losses) / len(val_losses)).item())\n",
    "        print(\"Accuracy\", sum(np.array(val_predictions) == val_labels) / len(val_labels))"
   ]
  },
  {
   "cell_type": "code",
   "execution_count": 17,
   "metadata": {},
   "outputs": [],
   "source": [
    "torch.save(one_layer_nn.state_dict(), 'model_weights.pth')"
   ]
  },
  {
   "cell_type": "code",
   "execution_count": 23,
   "metadata": {},
   "outputs": [],
   "source": [
    "model = OneLayerNN()\n",
    "model.load_state_dict(torch.load('model_weights.pth'))\n",
    "def convert_img_to_mnist(path):\n",
    "    image = Image.open(path)\n",
    "\n",
    "    # Convert the image to grayscale\n",
    "    image = image.convert('L')\n",
    "\n",
    "    # Resize the image to 28x28 pixels\n",
    "    image = image.resize((28, 28))\n",
    "\n",
    "    # Convert the image to a NumPy array\n",
    "    image_array = np.array(image)\n",
    "    # Ensure pixel values are within the range [0, 255]\n",
    "    image_array = (image_array / 255.0) * 255\n",
    "    image_array = torch.Tensor(image_array).reshape(-1, 28 * 28)\n",
    "    test_predictions = []\n",
    "    with torch.no_grad():\n",
    "        y_pred = one_layer_nn(image_array[:])\n",
    "        test_predictions.extend(torch.argmax(y_pred, axis=1))\n",
    "        print(test_predictions)\n",
    "    test_predictions = torch.Tensor(test_predictions).numpy().astype(np.uint8)\n",
    "    print(test_predictions)"
   ]
  },
  {
   "cell_type": "code",
   "execution_count": 33,
   "metadata": {},
   "outputs": [],
   "source": [
    "model = OneLayerNN()\n",
    "model.load_state_dict(torch.load('model_weights.pth'))\n",
    "def convert_img_to_mnist_2(path):\n",
    "    image = Image.open(path)\n",
    "\n",
    "    # Convert the image to grayscale\n",
    "    image = image.convert('L')\n",
    "\n",
    "    # Resize the image to 28x28 pixels\n",
    "    image = image.resize((28, 28))\n",
    "\n",
    "    # Convert the image to a NumPy array\n",
    "    image_array = np.array(image)\n",
    "    # Ensure pixel values are within the range [0, 255]\n",
    "    image_array = (image_array / 255.0) * 255\n",
    "    image_array = torch.Tensor(image_array).reshape(-1, 28 * 28)\n",
    "    test_predictions = []\n",
    "    y_pred = one_layer_nn(image_array[:])\n",
    "    max_index = np.argmax(y_pred.detach().numpy())\n",
    "    print(max_index)"
   ]
  },
  {
   "cell_type": "code",
   "execution_count": 34,
   "metadata": {},
   "outputs": [
    {
     "name": "stdout",
     "output_type": "stream",
     "text": [
      "8\n"
     ]
    }
   ],
   "source": [
    "image_array = convert_img_to_mnist_2('out.png')"
   ]
  }
 ],
 "metadata": {
  "kernelspec": {
   "display_name": "Python 3",
   "language": "python",
   "name": "python3"
  },
  "language_info": {
   "codemirror_mode": {
    "name": "ipython",
    "version": 3
   },
   "file_extension": ".py",
   "mimetype": "text/x-python",
   "name": "python",
   "nbconvert_exporter": "python",
   "pygments_lexer": "ipython3",
   "version": "3.10.12"
  }
 },
 "nbformat": 4,
 "nbformat_minor": 2
}
